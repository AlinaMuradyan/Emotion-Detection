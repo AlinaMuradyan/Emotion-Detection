{
 "cells": [
  {
   "cell_type": "code",
   "execution_count": 1,
   "id": "2036b267-98ca-4d9a-a496-974dab7d4115",
   "metadata": {},
   "outputs": [],
   "source": [
    "import numpy as np\n",
    "import pandas as pd\n",
    "import seaborn as sns\n",
    "import matplotlib.pyplot as plt\n",
    "import matplotlib.image as mpimg\n",
    "import cv2\n",
    "import os"
   ]
  },
  {
   "cell_type": "code",
   "execution_count": 2,
   "id": "9104bf81-115c-46f1-a327-0ecf7efbacea",
   "metadata": {},
   "outputs": [],
   "source": [
    "temp_image = mpimg.imread('emotions/train/angry/im10.png')"
   ]
  },
  {
   "cell_type": "code",
   "execution_count": 3,
   "id": "f773be15-a6d1-4868-a016-0f641db222f1",
   "metadata": {},
   "outputs": [
    {
     "data": {
      "text/plain": [
       "<matplotlib.image.AxesImage at 0x1c926d7dc90>"
      ]
     },
     "execution_count": 3,
     "metadata": {},
     "output_type": "execute_result"
    },
    {
     "data": {
      "image/png": "[encoded data removed]",
      "text/plain": [
       "<Figure size 640x480 with 1 Axes>"
      ]
     },
     "metadata": {},
     "output_type": "display_data"
    }
   ],
   "source": [
    "plt.imshow(temp_image)"
   ]
  },
  {
   "cell_type": "code",
   "execution_count": 4,
   "id": "b23726e7-c437-45d2-a9a5-3e9b37ce2488",
   "metadata": {},
   "outputs": [
    {
     "data": {
      "text/plain": [
       "(48, 48)"
      ]
     },
     "execution_count": 4,
     "metadata": {},
     "output_type": "execute_result"
    }
   ],
   "source": [
    "temp_image.shape"
   ]
  },
  {
   "cell_type": "code",
   "execution_count": 5,
   "id": "ec1a5371-ff78-4e5c-b02c-c20ad94df2e8",
   "metadata": {},
   "outputs": [
    {
     "data": {
      "text/plain": [
       "['angry', 'disgusted', 'fearful', 'happy', 'neutral', 'sad', 'surprised']"
      ]
     },
     "execution_count": 5,
     "metadata": {},
     "output_type": "execute_result"
    }
   ],
   "source": [
    "os.listdir('emotions/train')"
   ]
  },
  {
   "cell_type": "code",
   "execution_count": 6,
   "id": "a582beee-9cab-4685-9200-bb31e97ee5a8",
   "metadata": {},
   "outputs": [],
   "source": [
    "data = {\n",
    "    'angry':0,\n",
    "    'disgusted':1,\n",
    "    'fearful':2,\n",
    "    'happy':3,\n",
    "    'neutral':4,\n",
    "    'sad':5,\n",
    "    'surprised':6\n",
    "}"
   ]
  },
  {
   "cell_type": "code",
   "execution_count": 8,
   "id": "5046231c-b49d-4054-ba2f-33e07063360e",
   "metadata": {},
   "outputs": [],
   "source": [
    "X_train = []\n",
    "y_train = []\n",
    "for i in os.listdir('emotions/train/'):\n",
    "    for j in os.listdir(f'emotions/train/{i}/'):\n",
    "        img = mpimg.imread(f'emotions/train/{i}/{j}')\n",
    "        img = img.reshape(48, 48, 1)\n",
    "        X_train.append(img)\n",
    "        y_train.append(data[i])\n",
    "X_train = np.array(X_train)\n",
    "y_train = np.array(y_train)"
   ]
  },
  {
   "cell_type": "code",
   "execution_count": 9,
   "id": "9669fac4-2a99-4eba-b4eb-d30ace966555",
   "metadata": {},
   "outputs": [
    {
     "data": {
      "text/plain": [
       "array([[[[0.27450982],\n",
       "         [0.3137255 ],\n",
       "         [0.32156864],\n",
       "         ...,\n",
       "         [0.20392157],\n",
       "         [0.16862746],\n",
       "         [0.16078432]],\n",
       "\n",
       "        [[0.25490198],\n",
       "         [0.23921569],\n",
       "         [0.22745098],\n",
       "         ...,\n",
       "         [0.21960784],\n",
       "         [0.20392157],\n",
       "         [0.17254902]],\n",
       "\n",
       "        [[0.19607843],\n",
       "         [0.16862746],\n",
       "         [0.21176471],\n",
       "         ...,\n",
       "         [0.19215687],\n",
       "         [0.21960784],\n",
       "         [0.18431373]],\n",
       "\n",
       "        ...,\n",
       "\n",
       "        [[0.35686275],\n",
       "         [0.25490198],\n",
       "         [0.16470589],\n",
       "         ...,\n",
       "         [0.28235295],\n",
       "         [0.21960784],\n",
       "         [0.16862746]],\n",
       "\n",
       "        [[0.3019608 ],\n",
       "         [0.32156864],\n",
       "         [0.30980393],\n",
       "         ...,\n",
       "         [0.4117647 ],\n",
       "         [0.27450982],\n",
       "         [0.18039216]],\n",
       "\n",
       "        [[0.3019608 ],\n",
       "         [0.28235295],\n",
       "         [0.32941177],\n",
       "         ...,\n",
       "         [0.41568628],\n",
       "         [0.42745098],\n",
       "         [0.32156864]]],\n",
       "\n",
       "\n",
       "       [[[0.5921569 ],\n",
       "         [0.5882353 ],\n",
       "         [0.5764706 ],\n",
       "         ...,\n",
       "         [0.5058824 ],\n",
       "         [0.54901963],\n",
       "         [0.47058824]],\n",
       "\n",
       "        [[0.5921569 ],\n",
       "         [0.58431375],\n",
       "         [0.58431375],\n",
       "         ...,\n",
       "         [0.47843137],\n",
       "         [0.5529412 ],\n",
       "         [0.5372549 ]],\n",
       "\n",
       "        [[0.5921569 ],\n",
       "         [0.5921569 ],\n",
       "         [0.6117647 ],\n",
       "         ...,\n",
       "         [0.42745098],\n",
       "         [0.48235294],\n",
       "         [0.57254905]],\n",
       "\n",
       "        ...,\n",
       "\n",
       "        [[0.7372549 ],\n",
       "         [0.7372549 ],\n",
       "         [0.4745098 ],\n",
       "         ...,\n",
       "         [0.7254902 ],\n",
       "         [0.7254902 ],\n",
       "         [0.7294118 ]],\n",
       "\n",
       "        [[0.7372549 ],\n",
       "         [0.73333335],\n",
       "         [0.76862746],\n",
       "         ...,\n",
       "         [0.7294118 ],\n",
       "         [0.7137255 ],\n",
       "         [0.73333335]],\n",
       "\n",
       "        [[0.7294118 ],\n",
       "         [0.72156864],\n",
       "         [0.7254902 ],\n",
       "         ...,\n",
       "         [0.75686276],\n",
       "         [0.7176471 ],\n",
       "         [0.72156864]]],\n",
       "\n",
       "\n",
       "       [[[0.45882353],\n",
       "         [0.45490196],\n",
       "         [0.44313726],\n",
       "         ...,\n",
       "         [0.1764706 ],\n",
       "         [0.1764706 ],\n",
       "         [0.1764706 ]],\n",
       "\n",
       "        [[0.4627451 ],\n",
       "         [0.45490196],\n",
       "         [0.44705883],\n",
       "         ...,\n",
       "         [0.18039216],\n",
       "         [0.18039216],\n",
       "         [0.1764706 ]],\n",
       "\n",
       "        [[0.4627451 ],\n",
       "         [0.45882353],\n",
       "         [0.4509804 ],\n",
       "         ...,\n",
       "         [0.1764706 ],\n",
       "         [0.18039216],\n",
       "         [0.18039216]],\n",
       "\n",
       "        ...,\n",
       "\n",
       "        [[0.11764706],\n",
       "         [0.11372549],\n",
       "         [0.11372549],\n",
       "         ...,\n",
       "         [0.22745098],\n",
       "         [0.21568628],\n",
       "         [0.21568628]],\n",
       "\n",
       "        [[0.12156863],\n",
       "         [0.10980392],\n",
       "         [0.10980392],\n",
       "         ...,\n",
       "         [0.19607843],\n",
       "         [0.20392157],\n",
       "         [0.21176471]],\n",
       "\n",
       "        [[0.12941177],\n",
       "         [0.10980392],\n",
       "         [0.10980392],\n",
       "         ...,\n",
       "         [0.18039216],\n",
       "         [0.18431373],\n",
       "         [0.19215687]]],\n",
       "\n",
       "\n",
       "       ...,\n",
       "\n",
       "\n",
       "       [[[0.03921569],\n",
       "         [0.0627451 ],\n",
       "         [0.07450981],\n",
       "         ...,\n",
       "         [0.63529414],\n",
       "         [0.5647059 ],\n",
       "         [0.46666667]],\n",
       "\n",
       "        [[0.05098039],\n",
       "         [0.0627451 ],\n",
       "         [0.08235294],\n",
       "         ...,\n",
       "         [0.64705884],\n",
       "         [0.6039216 ],\n",
       "         [0.5019608 ]],\n",
       "\n",
       "        [[0.05490196],\n",
       "         [0.06666667],\n",
       "         [0.07450981],\n",
       "         ...,\n",
       "         [0.65882355],\n",
       "         [0.64705884],\n",
       "         [0.53333336]],\n",
       "\n",
       "        ...,\n",
       "\n",
       "        [[0.05490196],\n",
       "         [0.13333334],\n",
       "         [0.14509805],\n",
       "         ...,\n",
       "         [0.6901961 ],\n",
       "         [0.6431373 ],\n",
       "         [0.6117647 ]],\n",
       "\n",
       "        [[0.05882353],\n",
       "         [0.07058824],\n",
       "         [0.16470589],\n",
       "         ...,\n",
       "         [0.6784314 ],\n",
       "         [0.6392157 ],\n",
       "         [0.60784316]],\n",
       "\n",
       "        [[0.08235294],\n",
       "         [0.01960784],\n",
       "         [0.12156863],\n",
       "         ...,\n",
       "         [0.68235296],\n",
       "         [0.62352943],\n",
       "         [0.5764706 ]]],\n",
       "\n",
       "\n",
       "       [[[0.5529412 ],\n",
       "         [0.5803922 ],\n",
       "         [0.6117647 ],\n",
       "         ...,\n",
       "         [0.77254903],\n",
       "         [0.75686276],\n",
       "         [0.75686276]],\n",
       "\n",
       "        [[0.58431375],\n",
       "         [0.59607846],\n",
       "         [0.6313726 ],\n",
       "         ...,\n",
       "         [0.77254903],\n",
       "         [0.7607843 ],\n",
       "         [0.7607843 ]],\n",
       "\n",
       "        [[0.6117647 ],\n",
       "         [0.627451  ],\n",
       "         [0.65882355],\n",
       "         ...,\n",
       "         [0.78039217],\n",
       "         [0.77254903],\n",
       "         [0.77254903]],\n",
       "\n",
       "        ...,\n",
       "\n",
       "        [[0.39215687],\n",
       "         [0.3529412 ],\n",
       "         [0.2901961 ],\n",
       "         ...,\n",
       "         [0.8784314 ],\n",
       "         [0.8745098 ],\n",
       "         [0.8745098 ]],\n",
       "\n",
       "        [[0.3254902 ],\n",
       "         [0.25882354],\n",
       "         [0.28627452],\n",
       "         ...,\n",
       "         [0.87058824],\n",
       "         [0.8666667 ],\n",
       "         [0.8627451 ]],\n",
       "\n",
       "        [[0.23529412],\n",
       "         [0.22352941],\n",
       "         [0.27058825],\n",
       "         ...,\n",
       "         [0.8666667 ],\n",
       "         [0.85490197],\n",
       "         [0.85490197]]],\n",
       "\n",
       "\n",
       "       [[[0.47058824],\n",
       "         [0.47058824],\n",
       "         [0.4862745 ],\n",
       "         ...,\n",
       "         [0.30588236],\n",
       "         [0.20392157],\n",
       "         [0.16862746]],\n",
       "\n",
       "        [[0.4627451 ],\n",
       "         [0.4745098 ],\n",
       "         [0.4862745 ],\n",
       "         ...,\n",
       "         [0.34117648],\n",
       "         [0.25882354],\n",
       "         [0.16862746]],\n",
       "\n",
       "        [[0.4627451 ],\n",
       "         [0.4627451 ],\n",
       "         [0.4862745 ],\n",
       "         ...,\n",
       "         [0.3764706 ],\n",
       "         [0.3137255 ],\n",
       "         [0.21568628]],\n",
       "\n",
       "        ...,\n",
       "\n",
       "        [[0.7254902 ],\n",
       "         [0.63529414],\n",
       "         [0.5137255 ],\n",
       "         ...,\n",
       "         [0.7372549 ],\n",
       "         [0.7921569 ],\n",
       "         [0.8       ]],\n",
       "\n",
       "        [[0.76862746],\n",
       "         [0.7254902 ],\n",
       "         [0.6117647 ],\n",
       "         ...,\n",
       "         [0.69803923],\n",
       "         [0.7372549 ],\n",
       "         [0.78039217]],\n",
       "\n",
       "        [[0.8117647 ],\n",
       "         [0.7764706 ],\n",
       "         [0.7058824 ],\n",
       "         ...,\n",
       "         [0.7254902 ],\n",
       "         [0.7058824 ],\n",
       "         [0.7176471 ]]]], dtype=float32)"
      ]
     },
     "execution_count": 9,
     "metadata": {},
     "output_type": "execute_result"
    }
   ],
   "source": [
    "X_train"
   ]
  },
  {
   "cell_type": "code",
   "execution_count": 10,
   "id": "d594ce5c-87f2-4759-b301-19a140e16aaa",
   "metadata": {},
   "outputs": [],
   "source": [
    "from keras.utils import to_categorical"
   ]
  },
  {
   "cell_type": "code",
   "execution_count": 11,
   "id": "3cec541e-b7da-4231-a0a6-7e702996244c",
   "metadata": {},
   "outputs": [
    {
     "data": {
      "text/plain": [
       "array([0, 0, 0, ..., 6, 6, 6])"
      ]
     },
     "execution_count": 11,
     "metadata": {},
     "output_type": "execute_result"
    }
   ],
   "source": [
    "y_train"
   ]
  },
  {
   "cell_type": "code",
   "execution_count": 12,
   "id": "a3c5811c-9123-4d5f-ba96-974cebc1e5e4",
   "metadata": {},
   "outputs": [],
   "source": [
    "y_train = to_categorical(y_train)"
   ]
  },
  {
   "cell_type": "code",
   "execution_count": 13,
   "id": "86548fed-07ce-4ce2-ab74-bebb99485a5c",
   "metadata": {},
   "outputs": [
    {
     "data": {
      "text/plain": [
       "array([[1., 0., 0., ..., 0., 0., 0.],\n",
       "       [1., 0., 0., ..., 0., 0., 0.],\n",
       "       [1., 0., 0., ..., 0., 0., 0.],\n",
       "       ...,\n",
       "       [0., 0., 0., ..., 0., 0., 1.],\n",
       "       [0., 0., 0., ..., 0., 0., 1.],\n",
       "       [0., 0., 0., ..., 0., 0., 1.]])"
      ]
     },
     "execution_count": 13,
     "metadata": {},
     "output_type": "execute_result"
    }
   ],
   "source": [
    "y_train"
   ]
  },
  {
   "cell_type": "code",
   "execution_count": 15,
   "id": "8584ef37-e365-42db-bddb-ebd9ab3e6770",
   "metadata": {},
   "outputs": [],
   "source": [
    "X_test= []\n",
    "y_test = []\n",
    "for i in os.listdir('emotions/test/'):\n",
    "    for j in os.listdir(f'emotions/test/{i}/'):\n",
    "        img = mpimg.imread(f'emotions/test/{i}/{j}')\n",
    "        img = img.reshape(48, 48, 1)\n",
    "        X_test.append(img)\n",
    "        y_test.append(data[i])\n",
    "X_test = np.array(X_test)\n",
    "y_test = np.array(y_test)"
   ]
  },
  {
   "cell_type": "code",
   "execution_count": 16,
   "id": "9adbe39b-9a26-4c18-af9e-3bb98c5be123",
   "metadata": {},
   "outputs": [
    {
     "data": {
      "text/plain": [
       "array([[[[0.99607843],\n",
       "         [0.99607843],\n",
       "         [0.99607843],\n",
       "         ...,\n",
       "         [0.0627451 ],\n",
       "         [0.        ],\n",
       "         [0.6313726 ]],\n",
       "\n",
       "        [[0.99607843],\n",
       "         [0.99607843],\n",
       "         [0.99607843],\n",
       "         ...,\n",
       "         [0.06666667],\n",
       "         [0.        ],\n",
       "         [0.47843137]],\n",
       "\n",
       "        [[0.99607843],\n",
       "         [0.99607843],\n",
       "         [0.99607843],\n",
       "         ...,\n",
       "         [0.10196079],\n",
       "         [0.        ],\n",
       "         [0.44705883]],\n",
       "\n",
       "        ...,\n",
       "\n",
       "        [[0.25882354],\n",
       "         [0.3372549 ],\n",
       "         [0.3882353 ],\n",
       "         ...,\n",
       "         [1.        ],\n",
       "         [0.9882353 ],\n",
       "         [0.99607843]],\n",
       "\n",
       "        [[0.32941177],\n",
       "         [0.36078432],\n",
       "         [0.36078432],\n",
       "         ...,\n",
       "         [0.9254902 ],\n",
       "         [1.        ],\n",
       "         [1.        ]],\n",
       "\n",
       "        [[0.3647059 ],\n",
       "         [0.3529412 ],\n",
       "         [0.33333334],\n",
       "         ...,\n",
       "         [0.16470589],\n",
       "         [0.5058824 ],\n",
       "         [0.7058824 ]]],\n",
       "\n",
       "\n",
       "       [[[0.6901961 ],\n",
       "         [0.69411767],\n",
       "         [0.6666667 ],\n",
       "         ...,\n",
       "         [0.36862746],\n",
       "         [0.34117648],\n",
       "         [0.42352942]],\n",
       "\n",
       "        [[0.70980394],\n",
       "         [0.7058824 ],\n",
       "         [0.7058824 ],\n",
       "         ...,\n",
       "         [0.38431373],\n",
       "         [0.34901962],\n",
       "         [0.38039216]],\n",
       "\n",
       "        [[0.69803923],\n",
       "         [0.7137255 ],\n",
       "         [0.73333335],\n",
       "         ...,\n",
       "         [0.37254903],\n",
       "         [0.37254903],\n",
       "         [0.34117648]],\n",
       "\n",
       "        ...,\n",
       "\n",
       "        [[0.5294118 ],\n",
       "         [0.54901963],\n",
       "         [0.57254905],\n",
       "         ...,\n",
       "         [0.5803922 ],\n",
       "         [0.59607846],\n",
       "         [0.6117647 ]],\n",
       "\n",
       "        [[0.5647059 ],\n",
       "         [0.54509807],\n",
       "         [0.60784316],\n",
       "         ...,\n",
       "         [0.59607846],\n",
       "         [0.627451  ],\n",
       "         [0.63529414]],\n",
       "\n",
       "        [[0.59607846],\n",
       "         [0.5529412 ],\n",
       "         [0.58431375],\n",
       "         ...,\n",
       "         [0.50980395],\n",
       "         [0.5647059 ],\n",
       "         [0.5529412 ]]],\n",
       "\n",
       "\n",
       "       [[[0.10196079],\n",
       "         [0.13333334],\n",
       "         [0.09019608],\n",
       "         ...,\n",
       "         [0.5254902 ],\n",
       "         [0.53333336],\n",
       "         [0.5294118 ]],\n",
       "\n",
       "        [[0.13725491],\n",
       "         [0.12941177],\n",
       "         [0.04705882],\n",
       "         ...,\n",
       "         [0.5254902 ],\n",
       "         [0.5372549 ],\n",
       "         [0.53333336]],\n",
       "\n",
       "        [[0.12156863],\n",
       "         [0.06666667],\n",
       "         [0.03921569],\n",
       "         ...,\n",
       "         [0.5372549 ],\n",
       "         [0.5372549 ],\n",
       "         [0.5411765 ]],\n",
       "\n",
       "        ...,\n",
       "\n",
       "        [[0.78431374],\n",
       "         [0.7647059 ],\n",
       "         [0.74509805],\n",
       "         ...,\n",
       "         [0.30980393],\n",
       "         [0.31764707],\n",
       "         [0.32156864]],\n",
       "\n",
       "        [[0.77254903],\n",
       "         [0.7529412 ],\n",
       "         [0.7294118 ],\n",
       "         ...,\n",
       "         [0.29411766],\n",
       "         [0.33333334],\n",
       "         [0.3372549 ]],\n",
       "\n",
       "        [[0.75686276],\n",
       "         [0.73333335],\n",
       "         [0.7176471 ],\n",
       "         ...,\n",
       "         [0.40392157],\n",
       "         [0.31764707],\n",
       "         [0.34509805]]],\n",
       "\n",
       "\n",
       "       ...,\n",
       "\n",
       "\n",
       "       [[[0.9137255 ],\n",
       "         [0.80784315],\n",
       "         [0.5411765 ],\n",
       "         ...,\n",
       "         [0.654902  ],\n",
       "         [0.6313726 ],\n",
       "         [0.65882355]],\n",
       "\n",
       "        [[0.9372549 ],\n",
       "         [0.9137255 ],\n",
       "         [0.52156866],\n",
       "         ...,\n",
       "         [0.6784314 ],\n",
       "         [0.6666667 ],\n",
       "         [0.68235296]],\n",
       "\n",
       "        [[0.9529412 ],\n",
       "         [0.8392157 ],\n",
       "         [0.37254903],\n",
       "         ...,\n",
       "         [0.5803922 ],\n",
       "         [0.63529414],\n",
       "         [0.67058825]],\n",
       "\n",
       "        ...,\n",
       "\n",
       "        [[0.21960784],\n",
       "         [0.1882353 ],\n",
       "         [0.20392157],\n",
       "         ...,\n",
       "         [0.6666667 ],\n",
       "         [0.5882353 ],\n",
       "         [0.6       ]],\n",
       "\n",
       "        [[0.23529412],\n",
       "         [0.1882353 ],\n",
       "         [0.22745098],\n",
       "         ...,\n",
       "         [0.627451  ],\n",
       "         [0.5294118 ],\n",
       "         [0.5372549 ]],\n",
       "\n",
       "        [[0.23137255],\n",
       "         [0.18039216],\n",
       "         [0.24705882],\n",
       "         ...,\n",
       "         [0.5568628 ],\n",
       "         [0.5411765 ],\n",
       "         [0.5254902 ]]],\n",
       "\n",
       "\n",
       "       [[[0.83137256],\n",
       "         [0.83137256],\n",
       "         [0.83137256],\n",
       "         ...,\n",
       "         [0.8117647 ],\n",
       "         [0.80784315],\n",
       "         [0.8117647 ]],\n",
       "\n",
       "        [[0.827451  ],\n",
       "         [0.827451  ],\n",
       "         [0.827451  ],\n",
       "         ...,\n",
       "         [0.80784315],\n",
       "         [0.8117647 ],\n",
       "         [0.8117647 ]],\n",
       "\n",
       "        [[0.83137256],\n",
       "         [0.827451  ],\n",
       "         [0.8235294 ],\n",
       "         ...,\n",
       "         [0.8117647 ],\n",
       "         [0.8117647 ],\n",
       "         [0.8117647 ]],\n",
       "\n",
       "        ...,\n",
       "\n",
       "        [[0.6313726 ],\n",
       "         [0.14509805],\n",
       "         [0.        ],\n",
       "         ...,\n",
       "         [0.1254902 ],\n",
       "         [0.21176471],\n",
       "         [0.36078432]],\n",
       "\n",
       "        [[0.41960785],\n",
       "         [0.15294118],\n",
       "         [0.2784314 ],\n",
       "         ...,\n",
       "         [0.23529412],\n",
       "         [0.07843138],\n",
       "         [0.00784314]],\n",
       "\n",
       "        [[0.11764706],\n",
       "         [0.16078432],\n",
       "         [0.2509804 ],\n",
       "         ...,\n",
       "         [0.7294118 ],\n",
       "         [0.62352943],\n",
       "         [0.4117647 ]]],\n",
       "\n",
       "\n",
       "       [[[0.654902  ],\n",
       "         [0.654902  ],\n",
       "         [0.67058825],\n",
       "         ...,\n",
       "         [0.2627451 ],\n",
       "         [0.23921569],\n",
       "         [0.20784314]],\n",
       "\n",
       "        [[0.654902  ],\n",
       "         [0.654902  ],\n",
       "         [0.6666667 ],\n",
       "         ...,\n",
       "         [0.2       ],\n",
       "         [0.20392157],\n",
       "         [0.21176471]],\n",
       "\n",
       "        [[0.65882355],\n",
       "         [0.6509804 ],\n",
       "         [0.6313726 ],\n",
       "         ...,\n",
       "         [0.23137255],\n",
       "         [0.21960784],\n",
       "         [0.20392157]],\n",
       "\n",
       "        ...,\n",
       "\n",
       "        [[0.25490198],\n",
       "         [0.24705882],\n",
       "         [0.27058825],\n",
       "         ...,\n",
       "         [0.40392157],\n",
       "         [0.4       ],\n",
       "         [0.39215687]],\n",
       "\n",
       "        [[0.2       ],\n",
       "         [0.29411766],\n",
       "         [0.25882354],\n",
       "         ...,\n",
       "         [0.38039216],\n",
       "         [0.40784314],\n",
       "         [0.42352942]],\n",
       "\n",
       "        [[0.22352941],\n",
       "         [0.3019608 ],\n",
       "         [0.23921569],\n",
       "         ...,\n",
       "         [0.33333334],\n",
       "         [0.3529412 ],\n",
       "         [0.3764706 ]]]], dtype=float32)"
      ]
     },
     "execution_count": 16,
     "metadata": {},
     "output_type": "execute_result"
    }
   ],
   "source": [
    "X_test"
   ]
  },
  {
   "cell_type": "code",
   "execution_count": 17,
   "id": "504ec8b4-c4af-42af-b047-0275e374d21f",
   "metadata": {},
   "outputs": [
    {
     "data": {
      "text/plain": [
       "array([0, 0, 0, ..., 6, 6, 6])"
      ]
     },
     "execution_count": 17,
     "metadata": {},
     "output_type": "execute_result"
    }
   ],
   "source": [
    "y_test"
   ]
  },
  {
   "cell_type": "code",
   "execution_count": 18,
   "id": "5b049b10-b16a-43d0-921b-ca11e58dbdd0",
   "metadata": {},
   "outputs": [],
   "source": [
    "y_test = to_categorical(y_test)"
   ]
  },
  {
   "cell_type": "code",
   "execution_count": 19,
   "id": "9b35c333-a991-4030-9f2a-0be27af68e2d",
   "metadata": {},
   "outputs": [
    {
     "data": {
      "text/plain": [
       "array([[1., 0., 0., ..., 0., 0., 0.],\n",
       "       [1., 0., 0., ..., 0., 0., 0.],\n",
       "       [1., 0., 0., ..., 0., 0., 0.],\n",
       "       ...,\n",
       "       [0., 0., 0., ..., 0., 0., 1.],\n",
       "       [0., 0., 0., ..., 0., 0., 1.],\n",
       "       [0., 0., 0., ..., 0., 0., 1.]])"
      ]
     },
     "execution_count": 19,
     "metadata": {},
     "output_type": "execute_result"
    }
   ],
   "source": [
    "y_test"
   ]
  },
  {
   "cell_type": "code",
   "execution_count": 20,
   "id": "aea02ea5-64b2-42f8-9963-dcd8358de771",
   "metadata": {},
   "outputs": [],
   "source": [
    "from keras import Sequential\n",
    "from keras.layers import Dense, Conv2D, MaxPooling2D, Flatten, BatchNormalization, Dropout\n",
    "from keras.optimizers import Adam"
   ]
  },
  {
   "cell_type": "code",
   "execution_count": 39,
   "id": "7b632184-294b-40d2-8f51-8c435b150841",
   "metadata": {},
   "outputs": [],
   "source": [
    "model = Sequential()\n",
    "model.add(Conv2D(32, kernel_size=(3, 3), activation='relu', input_shape=(48, 48, 1)))\n",
    "model.add(MaxPooling2D(pool_size=(2, 2)))\n",
    "model.add(BatchNormalization())\n",
    "model.add(Conv2D(64, kernel_size=(3, 3), activation='relu'))\n",
    "model.add(MaxPooling2D(pool_size=(2, 2)))\n",
    "model.add(Flatten())\n",
    "\n",
    "model.add(Dense(128, activation='relu'))\n",
    "model.add(Dropout(0.3))\n",
    "model.add(Dense(64, activation='relu'))\n",
    "model.add(Dropout(0.3))\n",
    "model.add(Dense(32, activation='relu'))\n",
    "model.add(Dense(7, activation='softmax'))"
   ]
  },
  {
   "cell_type": "code",
   "execution_count": 40,
   "id": "89941820-e4db-4274-a21d-6e4272faf922",
   "metadata": {},
   "outputs": [],
   "source": [
    "model.compile(optimizer=Adam(learning_rate=0.0001), loss='binary_crossentropy', metrics=['accuracy'])"
   ]
  },
  {
   "cell_type": "code",
   "execution_count": 53,
   "id": "d322ccc1-094d-4c38-9c44-08319c2c4492",
   "metadata": {},
   "outputs": [
    {
     "name": "stdout",
     "output_type": "stream",
     "text": [
      "Epoch 1/5\n",
      "\u001b[1m898/898\u001b[0m \u001b[32m━━━━━━━━━━━━━━━━━━━━\u001b[0m\u001b[37m\u001b[0m \u001b[1m18s\u001b[0m 19ms/step - accuracy: 0.7417 - loss: 0.1759 - val_accuracy: 0.5506 - val_loss: 0.3124\n",
      "Epoch 2/5\n",
      "\u001b[1m898/898\u001b[0m \u001b[32m━━━━━━━━━━━━━━━━━━━━\u001b[0m\u001b[37m\u001b[0m \u001b[1m17s\u001b[0m 19ms/step - accuracy: 0.7569 - loss: 0.1678 - val_accuracy: 0.5485 - val_loss: 0.3101\n",
      "Epoch 3/5\n",
      "\u001b[1m898/898\u001b[0m \u001b[32m━━━━━━━━━━━━━━━━━━━━\u001b[0m\u001b[37m\u001b[0m \u001b[1m21s\u001b[0m 24ms/step - accuracy: 0.7740 - loss: 0.1567 - val_accuracy: 0.5483 - val_loss: 0.3178\n",
      "Epoch 4/5\n",
      "\u001b[1m898/898\u001b[0m \u001b[32m━━━━━━━━━━━━━━━━━━━━\u001b[0m\u001b[37m\u001b[0m \u001b[1m29s\u001b[0m 32ms/step - accuracy: 0.7921 - loss: 0.1464 - val_accuracy: 0.5461 - val_loss: 0.3313\n",
      "Epoch 5/5\n",
      "\u001b[1m898/898\u001b[0m \u001b[32m━━━━━━━━━━━━━━━━━━━━\u001b[0m\u001b[37m\u001b[0m \u001b[1m28s\u001b[0m 31ms/step - accuracy: 0.8023 - loss: 0.1397 - val_accuracy: 0.5437 - val_loss: 0.3317\n"
     ]
    },
    {
     "data": {
      "text/plain": [
       "<keras.src.callbacks.history.History at 0x1c95e7964d0>"
      ]
     },
     "execution_count": 53,
     "metadata": {},
     "output_type": "execute_result"
    }
   ],
   "source": [
    "model.fit(X_train, y_train, validation_data=(X_test, y_test), epochs=5)"
   ]
  },
  {
   "cell_type": "code",
   "execution_count": 54,
   "id": "91cb90c1-d036-4555-aa8a-5b4d37ace01a",
   "metadata": {},
   "outputs": [
    {
     "data": {
      "text/plain": [
       "[<matplotlib.lines.Line2D at 0x1c9ba48a2d0>]"
      ]
     },
     "execution_count": 54,
     "metadata": {},
     "output_type": "execute_result"
    },
    {
     "data": {
      "image/png": "[encoded data removed]",
      "text/plain": [
       "<Figure size 640x480 with 1 Axes>"
      ]
     },
     "metadata": {},
     "output_type": "display_data"
    }
   ],
   "source": [
    "plt.plot(model.history.history['loss'])\n",
    "plt.plot(model.history.history['val_loss'])"
   ]
  },
  {
   "cell_type": "code",
   "execution_count": 55,
   "id": "8d56ed3b-1d8a-45f2-b825-26f5795f224e",
   "metadata": {},
   "outputs": [
    {
     "data": {
      "text/plain": [
       "[<matplotlib.lines.Line2D at 0x1c9ba3fc490>]"
      ]
     },
     "execution_count": 55,
     "metadata": {},
     "output_type": "execute_result"
    },
    {
     "data": {
      "image/png": "[encoded data removed]",
      "text/plain": [
       "<Figure size 640x480 with 1 Axes>"
      ]
     },
     "metadata": {},
     "output_type": "display_data"
    }
   ],
   "source": [
    "plt.plot(model.history.history['accuracy'])\n",
    "plt.plot(model.history.history['val_accuracy'])"
   ]
  },
  {
   "cell_type": "code",
   "execution_count": 56,
   "id": "38a58e16-9dbc-40af-b233-083c355d7d7d",
   "metadata": {},
   "outputs": [],
   "source": [
    "import pickle"
   ]
  },
  {
   "cell_type": "code",
   "execution_count": 57,
   "id": "8095e4ec-8c71-4e7e-8bda-de203f44abad",
   "metadata": {},
   "outputs": [],
   "source": [
    "with open('model.pkl', 'wb') as file:\n",
    "    pickle.dump(model, file)"
   ]
  },
  {
   "cell_type": "code",
   "execution_count": null,
   "id": "c8fbd3df-299c-44f9-a2de-dc8310b0a71f",
   "metadata": {},
   "outputs": [],
   "source": []
  }
 ],
 "metadata": {
  "kernelspec": {
   "display_name": "Python 3 (ipykernel)",
   "language": "python",
   "name": "python3"
  },
  "language_info": {
   "codemirror_mode": {
    "name": "ipython",
    "version": 3
   },
   "file_extension": ".py",
   "mimetype": "text/x-python",
   "name": "python",
   "nbconvert_exporter": "python",
   "pygments_lexer": "ipython3",
   "version": "3.11.9"
  }
 },
 "nbformat": 4,
 "nbformat_minor": 5
}
